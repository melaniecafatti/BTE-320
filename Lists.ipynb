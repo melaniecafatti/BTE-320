{
  "nbformat": 4,
  "nbformat_minor": 0,
  "metadata": {
    "colab": {
      "provenance": [],
      "authorship_tag": "ABX9TyNVjguJ1zunIQ6ReSnR39EE",
      "include_colab_link": true
    },
    "kernelspec": {
      "name": "python3",
      "display_name": "Python 3"
    },
    "language_info": {
      "name": "python"
    }
  },
  "cells": [
    {
      "cell_type": "markdown",
      "metadata": {
        "id": "view-in-github",
        "colab_type": "text"
      },
      "source": [
        "<a href=\"https://colab.research.google.com/github/melaniecafatti/BTE-320/blob/main/Lists.ipynb\" target=\"_parent\"><img src=\"https://colab.research.google.com/assets/colab-badge.svg\" alt=\"Open In Colab\"/></a>"
      ]
    },
    {
      "cell_type": "code",
      "execution_count": 5,
      "metadata": {
        "colab": {
          "base_uri": "https://localhost:8080/"
        },
        "id": "jBN471rJoKzS",
        "outputId": "c0df74d2-9529-481e-e172-679b0772f3f5"
      },
      "outputs": [
        {
          "output_type": "execute_result",
          "data": {
            "text/plain": [
              "[1, 'two', 3.0, <function print>, [5, 7, 7]]"
            ]
          },
          "metadata": {},
          "execution_count": 5
        }
      ],
      "source": [
        "L = [1, 'two', 3.0, print, [5, 7, 7]] #print is a function.functions can be objects. there can also be lists in lists\n",
        "L"
      ]
    },
    {
      "cell_type": "code",
      "source": [
        "len(L)"
      ],
      "metadata": {
        "colab": {
          "base_uri": "https://localhost:8080/"
        },
        "id": "HQr46kGmo8mh",
        "outputId": "e7ff2dca-02d2-48ef-d356-b7684d65aa24"
      },
      "execution_count": 6,
      "outputs": [
        {
          "output_type": "execute_result",
          "data": {
            "text/plain": [
              "5"
            ]
          },
          "metadata": {},
          "execution_count": 6
        }
      ]
    },
    {
      "cell_type": "code",
      "source": [
        "L[2] #indexing: starts at index 0, 1, 2, 3..."
      ],
      "metadata": {
        "colab": {
          "base_uri": "https://localhost:8080/"
        },
        "id": "pilzD01opVvA",
        "outputId": "edd4fe70-6005-43f1-e80c-8381a524bb79"
      },
      "execution_count": 7,
      "outputs": [
        {
          "output_type": "execute_result",
          "data": {
            "text/plain": [
              "3.0"
            ]
          },
          "metadata": {},
          "execution_count": 7
        }
      ]
    },
    {
      "cell_type": "code",
      "source": [
        "L[-1] #starts from the last (-1, -2,-3....)"
      ],
      "metadata": {
        "colab": {
          "base_uri": "https://localhost:8080/"
        },
        "id": "1KIEUwFOqaV2",
        "outputId": "baa77595-44ab-4684-c149-06d304d3bed5"
      },
      "execution_count": 8,
      "outputs": [
        {
          "output_type": "execute_result",
          "data": {
            "text/plain": [
              "[5, 7, 7]"
            ]
          },
          "metadata": {},
          "execution_count": 8
        }
      ]
    },
    {
      "cell_type": "code",
      "source": [
        "L[:3] #slicing: when we have a blank start value, that means we start at 0 #start is inclusive, end is exclusive meaning 3 is not included"
      ],
      "metadata": {
        "colab": {
          "base_uri": "https://localhost:8080/"
        },
        "id": "u17F3sieqwrh",
        "outputId": "e2694611-0ce0-4dd2-b814-6a5c8efccffe"
      },
      "execution_count": 9,
      "outputs": [
        {
          "output_type": "execute_result",
          "data": {
            "text/plain": [
              "[1, 'two', 3.0]"
            ]
          },
          "metadata": {},
          "execution_count": 9
        }
      ]
    },
    {
      "cell_type": "code",
      "source": [
        "L[3:]"
      ],
      "metadata": {
        "colab": {
          "base_uri": "https://localhost:8080/"
        },
        "id": "9cDrnGHGrKCr",
        "outputId": "d04065f6-0b79-4893-8031-8b40ab4c7d77"
      },
      "execution_count": 10,
      "outputs": [
        {
          "output_type": "execute_result",
          "data": {
            "text/plain": [
              "[<function print>, [5, 7, 7]]"
            ]
          },
          "metadata": {},
          "execution_count": 10
        }
      ]
    },
    {
      "cell_type": "code",
      "source": [
        "L + ['three', 9.99, 0] #CONCAT"
      ],
      "metadata": {
        "colab": {
          "base_uri": "https://localhost:8080/"
        },
        "id": "0Ry-0dyVrmyy",
        "outputId": "74a60d50-85f3-439d-c810-6562a806ab84"
      },
      "execution_count": 11,
      "outputs": [
        {
          "output_type": "execute_result",
          "data": {
            "text/plain": [
              "[1, 'two', 3.0, <function print>, [5, 7, 7], 'three', 9.99, 0]"
            ]
          },
          "metadata": {},
          "execution_count": 11
        }
      ]
    },
    {
      "cell_type": "code",
      "source": [
        "3.1 * ['three', 9.99, 0] #multiply a float with a list does not work... change float to integer"
      ],
      "metadata": {
        "colab": {
          "base_uri": "https://localhost:8080/",
          "height": 141
        },
        "id": "N0YWFEB2sltE",
        "outputId": "858a4fcd-9fca-4899-dadd-ab87f5c9fb12"
      },
      "execution_count": 13,
      "outputs": [
        {
          "output_type": "error",
          "ename": "TypeError",
          "evalue": "can't multiply sequence by non-int of type 'float'",
          "traceback": [
            "\u001b[0;31m---------------------------------------------------------------------------\u001b[0m",
            "\u001b[0;31mTypeError\u001b[0m                                 Traceback (most recent call last)",
            "\u001b[0;32m<ipython-input-13-79450ebbbe39>\u001b[0m in \u001b[0;36m<cell line: 1>\u001b[0;34m()\u001b[0m\n\u001b[0;32m----> 1\u001b[0;31m \u001b[0;36m3.1\u001b[0m \u001b[0;34m*\u001b[0m \u001b[0;34m[\u001b[0m\u001b[0;34m'three'\u001b[0m\u001b[0;34m,\u001b[0m \u001b[0;36m9.99\u001b[0m\u001b[0;34m,\u001b[0m \u001b[0;36m0\u001b[0m\u001b[0;34m]\u001b[0m\u001b[0;34m\u001b[0m\u001b[0;34m\u001b[0m\u001b[0m\n\u001b[0m",
            "\u001b[0;31mTypeError\u001b[0m: can't multiply sequence by non-int of type 'float'"
          ]
        }
      ]
    },
    {
      "cell_type": "code",
      "source": [
        "3 * ['three', 9.99, 0]"
      ],
      "metadata": {
        "colab": {
          "base_uri": "https://localhost:8080/"
        },
        "id": "bkiQiBJ2s8Ld",
        "outputId": "7c1c6e49-6f2d-46c1-aef9-8808bfc238d3"
      },
      "execution_count": 15,
      "outputs": [
        {
          "output_type": "execute_result",
          "data": {
            "text/plain": [
              "['three', 9.99, 0, 'three', 9.99, 0, 'three', 9.99, 0]"
            ]
          },
          "metadata": {},
          "execution_count": 15
        }
      ]
    },
    {
      "cell_type": "code",
      "source": [
        "s = 'two' #ask yourself what the expression is... here you are assigning a string to the variable 's'. whenever you have an assingment you create a bond between the string and the variable\n",
        "s[2] = 'b' #assign the character to the third position of the string\n",
        "#this doesnt work because strings are inmutable, as soon as you create a string you cannot modify it. you can create a new string but not swap characters"
      ],
      "metadata": {
        "colab": {
          "base_uri": "https://localhost:8080/",
          "height": 176
        },
        "id": "xuuzX8gytWip",
        "outputId": "d61ff42e-60ab-47bd-b9a2-44ebf6c3bd8b"
      },
      "execution_count": 16,
      "outputs": [
        {
          "output_type": "error",
          "ename": "TypeError",
          "evalue": "'str' object does not support item assignment",
          "traceback": [
            "\u001b[0;31m---------------------------------------------------------------------------\u001b[0m",
            "\u001b[0;31mTypeError\u001b[0m                                 Traceback (most recent call last)",
            "\u001b[0;32m<ipython-input-16-0d1f95cb3cae>\u001b[0m in \u001b[0;36m<cell line: 2>\u001b[0;34m()\u001b[0m\n\u001b[1;32m      1\u001b[0m \u001b[0ms\u001b[0m \u001b[0;34m=\u001b[0m \u001b[0;34m'two'\u001b[0m \u001b[0;31m#ask yourself what the expression is... here you are assigning a string to the variable 's'. whenever you have an assingment you create a bond between the string and the variable\u001b[0m\u001b[0;34m\u001b[0m\u001b[0;34m\u001b[0m\u001b[0m\n\u001b[0;32m----> 2\u001b[0;31m \u001b[0ms\u001b[0m\u001b[0;34m[\u001b[0m\u001b[0;36m2\u001b[0m\u001b[0;34m]\u001b[0m \u001b[0;34m=\u001b[0m \u001b[0;34m'b'\u001b[0m \u001b[0;31m#assign the character to the third position of the string\u001b[0m\u001b[0;34m\u001b[0m\u001b[0;34m\u001b[0m\u001b[0m\n\u001b[0m",
            "\u001b[0;31mTypeError\u001b[0m: 'str' object does not support item assignment"
          ]
        }
      ]
    },
    {
      "cell_type": "code",
      "source": [
        "L[3] = 'b' #substitute object in position 3 with the input\n",
        "L #on lists, substitutions work because they are mutable, they can be modified (unlike strings)"
      ],
      "metadata": {
        "colab": {
          "base_uri": "https://localhost:8080/"
        },
        "id": "xBuySNFBuRPt",
        "outputId": "15420122-b45c-4093-b144-57546df32b02"
      },
      "execution_count": 22,
      "outputs": [
        {
          "output_type": "execute_result",
          "data": {
            "text/plain": [
              "[1, 'two', 3.0, 'b', [5, 7, 7]]"
            ]
          },
          "metadata": {},
          "execution_count": 22
        }
      ]
    },
    {
      "cell_type": "code",
      "source": [
        "#why \"for loop\" over \"while loop\"? for loop we know how many itierations we run before we run it (range). In while loop we don't know it until the condition turns false\n",
        "#you use a for loop in a list because the function len will return the length of the list and we know how many iterations we need to run in orer to run all of them"
      ],
      "metadata": {
        "id": "2Bnxtf0iuewL"
      },
      "execution_count": 23,
      "outputs": []
    },
    {
      "cell_type": "code",
      "source": [
        "for index in range(len(L)):       #itering over the items of the list\n",
        "  print(L[index])"
      ],
      "metadata": {
        "colab": {
          "base_uri": "https://localhost:8080/"
        },
        "id": "5eEbB2JEu9oi",
        "outputId": "c5601853-feda-449c-a226-982a393e08e1"
      },
      "execution_count": 25,
      "outputs": [
        {
          "output_type": "stream",
          "name": "stdout",
          "text": [
            "1\n",
            "two\n",
            "3.0\n",
            "b\n",
            "[5, 7, 7]\n"
          ]
        }
      ]
    },
    {
      "cell_type": "code",
      "source": [
        "for element in L:\n",
        "  print(element)"
      ],
      "metadata": {
        "colab": {
          "base_uri": "https://localhost:8080/"
        },
        "id": "WhJSSRyJxVfN",
        "outputId": "3bc8860e-a72d-422e-cdd3-ebfffbab2c66"
      },
      "execution_count": 26,
      "outputs": [
        {
          "output_type": "stream",
          "name": "stdout",
          "text": [
            "1\n",
            "two\n",
            "3.0\n",
            "b\n",
            "[5, 7, 7]\n"
          ]
        }
      ]
    },
    {
      "cell_type": "code",
      "source": [
        "#to create a two dimensional array\n",
        "[[...],[...],...]"
      ],
      "metadata": {
        "id": "E2RUhtOLx8sm"
      },
      "execution_count": null,
      "outputs": []
    },
    {
      "cell_type": "code",
      "source": [
        "L_outer = [[1,2,3],[4,5,6]] #[1,2,3] is object 0 and [4,5,6] is object 1\n",
        "print(L_outer)\n",
        "l = L_outer[1]\n",
        "print(l)\n",
        "l[0]=7\n",
        "print(l)\n",
        "L_outer[1] = l\n",
        "L_outer"
      ],
      "metadata": {
        "colab": {
          "base_uri": "https://localhost:8080/"
        },
        "id": "g0C2ArzAymwL",
        "outputId": "cb1bd3d7-7f25-4acd-bd7f-062817402b3d"
      },
      "execution_count": 36,
      "outputs": [
        {
          "output_type": "stream",
          "name": "stdout",
          "text": [
            "[[1, 2, 3], [4, 5, 6]]\n",
            "[4, 5, 6]\n",
            "[7, 5, 6]\n"
          ]
        },
        {
          "output_type": "execute_result",
          "data": {
            "text/plain": [
              "[[1, 2, 3], [7, 5, 6]]"
            ]
          },
          "metadata": {},
          "execution_count": 36
        }
      ]
    },
    {
      "cell_type": "code",
      "source": [
        "#chain of indexes\n",
        "L_outer = [[1,2,3],[4,5,6]]\n",
        "print(L_outer)\n",
        "L_outer[1][0] = 7\n",
        "print(L_outer)"
      ],
      "metadata": {
        "colab": {
          "base_uri": "https://localhost:8080/"
        },
        "id": "00najcVQ0Evs",
        "outputId": "6e1dc3f0-ee7d-46c7-fcdf-53142358fb1f"
      },
      "execution_count": 38,
      "outputs": [
        {
          "output_type": "execute_result",
          "data": {
            "text/plain": [
              "[[1, 2, 3], [7, 5, 6]]"
            ]
          },
          "metadata": {},
          "execution_count": 38
        }
      ]
    },
    {
      "cell_type": "code",
      "source": [
        "L"
      ],
      "metadata": {
        "colab": {
          "base_uri": "https://localhost:8080/"
        },
        "id": "FV3WbDUr2Kho",
        "outputId": "0d9db0cc-c90e-472b-e377-111baabdfcf9"
      },
      "execution_count": 41,
      "outputs": [
        {
          "output_type": "execute_result",
          "data": {
            "text/plain": [
              "[1, 'two', 3.0, 'b', [5, 7, 7]]"
            ]
          },
          "metadata": {},
          "execution_count": 41
        }
      ]
    },
    {
      "cell_type": "code",
      "source": [
        "obj.method(...)"
      ],
      "metadata": {
        "id": "IdSUmhyt2wlt"
      },
      "execution_count": null,
      "outputs": []
    },
    {
      "cell_type": "code",
      "source": [
        "s = 'three'\n",
        "L.append(s) #adds whatever you give at the end of the list\n",
        "L"
      ],
      "metadata": {
        "colab": {
          "base_uri": "https://localhost:8080/"
        },
        "id": "UdIITZ9U2N5R",
        "outputId": "d022c524-b068-4a00-8c66-2a939509e12e"
      },
      "execution_count": 42,
      "outputs": [
        {
          "output_type": "execute_result",
          "data": {
            "text/plain": [
              "[1, 'two', 3.0, 'b', [5, 7, 7], 'three']"
            ]
          },
          "metadata": {},
          "execution_count": 42
        }
      ]
    },
    {
      "cell_type": "code",
      "source": [
        "s = ['three', 9.99,0] #adds it as a single object to the end of the list\n",
        "L.append(s)\n",
        "L"
      ],
      "metadata": {
        "colab": {
          "base_uri": "https://localhost:8080/"
        },
        "id": "TzcGtqw127x7",
        "outputId": "2a746d31-23ea-4f83-ccb7-50d294520d5a"
      },
      "execution_count": 43,
      "outputs": [
        {
          "output_type": "execute_result",
          "data": {
            "text/plain": [
              "[1, 'two', 3.0, 'b', [5, 7, 7], 'three', ['three', 9.99, 0]]"
            ]
          },
          "metadata": {},
          "execution_count": 43
        }
      ]
    },
    {
      "cell_type": "code",
      "source": [
        "#if you want to add indiviual objects instead of a list as a singlel object, use L.extend\n",
        "s = ['three', 9.99,0]\n",
        "L.extend(s)\n",
        "L"
      ],
      "metadata": {
        "colab": {
          "base_uri": "https://localhost:8080/"
        },
        "id": "_kXQ-Rce3Lj2",
        "outputId": "b47e0511-8af3-4f56-caca-ae2605ec771d"
      },
      "execution_count": 44,
      "outputs": [
        {
          "output_type": "execute_result",
          "data": {
            "text/plain": [
              "[1, 'two', 3.0, 'b', [5, 7, 7], 'three', ['three', 9.99, 0], 'three', 9.99, 0]"
            ]
          },
          "metadata": {},
          "execution_count": 44
        }
      ]
    }
  ]
}