{
  "nbformat": 4,
  "nbformat_minor": 0,
  "metadata": {
    "colab": {
      "provenance": [],
      "authorship_tag": "ABX9TyMc2FCt+nnDTFtQeLdwb+8y",
      "include_colab_link": true
    },
    "kernelspec": {
      "name": "python3",
      "display_name": "Python 3"
    },
    "language_info": {
      "name": "python"
    }
  },
  "cells": [
    {
      "cell_type": "markdown",
      "metadata": {
        "id": "view-in-github",
        "colab_type": "text"
      },
      "source": [
        "<a href=\"https://colab.research.google.com/github/melaniecafatti/BTE-320/blob/main/pandas_examples.ipynb\" target=\"_parent\"><img src=\"https://colab.research.google.com/assets/colab-badge.svg\" alt=\"Open In Colab\"/></a>"
      ]
    },
    {
      "cell_type": "code",
      "execution_count": 4,
      "metadata": {
        "id": "NJeBe46-AOCm",
        "colab": {
          "base_uri": "https://localhost:8080/"
        },
        "outputId": "a4716883-aa49-44d0-ce97-f7c5eb8d7e2e"
      },
      "outputs": [
        {
          "output_type": "stream",
          "name": "stdout",
          "text": [
            "Enter the numerator: 8\n",
            "Enter the denominator: 6\n",
            "1.3333333333333333\n",
            "Division complete\n",
            "This will be displayed always\n",
            "Program ends\n"
          ]
        }
      ],
      "source": [
        "try:\n",
        "  a = float(input('Enter the numerator: '))\n",
        "  b = float(input('Enter the denominator: '))\n",
        "  print(a/b)\n",
        "except ZeroDivisionError:\n",
        "  print('Division by zero not allowed!')\n",
        "except ValueError:\n",
        "  print('Invalid input!')\n",
        "except:\n",
        "  print('Unknown error...')\n",
        "else: #acknowledgemnt that all went well\n",
        "   print('Division complete')\n",
        "finally:\n",
        "    print('This will be displayed always')\n",
        "\n",
        "\n",
        "print('Program ends')"
      ]
    }
  ]
}