{
  "nbformat": 4,
  "nbformat_minor": 0,
  "metadata": {
    "colab": {
      "provenance": [],
      "include_colab_link": true
    },
    "kernelspec": {
      "name": "python3",
      "display_name": "Python 3"
    },
    "language_info": {
      "name": "python"
    }
  },
  "cells": [
    {
      "cell_type": "markdown",
      "metadata": {
        "id": "view-in-github",
        "colab_type": "text"
      },
      "source": [
        "<a href=\"https://colab.research.google.com/github/melaniecafatti/BTE-320/blob/main/RockPaperScissors_LeapYear_ParkingGarage_Movie%20Theater.ipynb\" target=\"_parent\"><img src=\"https://colab.research.google.com/assets/colab-badge.svg\" alt=\"Open In Colab\"/></a>"
      ]
    },
    {
      "cell_type": "code",
      "source": [
        "Rock Paper Scissors"
      ],
      "metadata": {
        "id": "yQhsiBVBNff-"
      },
      "execution_count": null,
      "outputs": []
    },
    {
      "cell_type": "code",
      "execution_count": null,
      "metadata": {
        "id": "3bd7Jq1UuVFu"
      },
      "outputs": [],
      "source": [
        "#User input\n",
        "\n",
        "user_choice = input(\"Select Rock, Paper, or Scissors\")\n",
        "\n",
        "import random\n",
        "computer_choice = random.choice([\"Rock\", \"Paper\", \"Scissors\"])\n",
        "\n",
        "print(f\"The computer chose {computer_choice}, you chose {user_choice}\")\n",
        "\n",
        "  if user_choice == \"Rock\":\n",
        "    if computer_choice == \"Paper\":\n",
        "      print(\"Computer wins! You lose!\")\n",
        "    elif computer_choice == \"Scissors\":\n",
        "      print(\"You win!\")\n",
        "    elif computer_choice == \"Rock\":\n",
        "      print(\"It's a tie!\")\n",
        "\n",
        "\n",
        "  if user_choice == \"Paper\":\n",
        "    if computer_choice == \"Rock\":\n",
        "      print(\"You win!\")\n",
        "    elif computer_choice == \"Scissors\":\n",
        "      print(\"Computer wins! You lose!\")\n",
        "    elif computer_choice == \"Paper\":\n",
        "      print(\"It's a tie!\")\n",
        "\n",
        "\n",
        "  if user_choice == \"Scissors\":\n",
        "    if computer_choice == \"Paper\":\n",
        "      print(\"You win!\")\n",
        "    elif computer_choice == \"Rock\":\n",
        "      print(\"Computer wins! You lose!\")\n",
        "    elif computer_choice == \"Scissors\":\n",
        "      print(\"It's a tie!\")\n"
      ]
    },
    {
      "cell_type": "code",
      "source": [
        "user_choice = input(\"Select rock, paper, or scissors\")\n",
        "\n",
        "import random\n",
        "computer_choice = random.choice([\"rock\", \"paper\", \"scissors\"])\n",
        "\n",
        "print(f\"The computer chose {computer_choice}, you chose {user_choice}\")\n",
        "if user_choice == computer_choice:\n",
        "     print(\"Tie\")\n",
        "elif (user_choice == \"rock\" and computer_choice == \"scissors\") or (user_choice == \"paper\" and computer_choice == \"rock\") or (user_choice == \"scissors\" and computer_choice == \"paper\"):\n",
        "  print(\"You win!\")\n",
        "else:\n",
        "  print(\"Computer wins\")"
      ],
      "metadata": {
        "id": "WWASsrWv2S_s"
      },
      "execution_count": null,
      "outputs": []
    },
    {
      "cell_type": "markdown",
      "source": [
        "Leap Year"
      ],
      "metadata": {
        "id": "0QhxR-z1NdwC"
      }
    },
    {
      "cell_type": "code",
      "source": [
        "year = input(\"Enter the year --> \")\n",
        "\n",
        "year = int(year)\n",
        "\n",
        "if year%4 == 0 and year%100 == 0 and year%400 == 0:\n",
        "  print(\"Its a Leap year!\")\n",
        "  if year%4 == 0 and year%100 != 0:\n",
        "    print(\"It is a leap year!\")\n",
        "else:\n",
        "  print(\"Its not leap\")\n",
        "\n",
        "\n"
      ],
      "metadata": {
        "id": "YSIZ9NTA4gmb",
        "colab": {
          "base_uri": "https://localhost:8080/"
        },
        "outputId": "5fe00d38-4456-4aad-b84b-9d3f05cd9f22"
      },
      "execution_count": null,
      "outputs": [
        {
          "output_type": "stream",
          "name": "stdout",
          "text": [
            "Enter the year --> 2016\n",
            "Its not leap\n"
          ]
        }
      ]
    },
    {
      "cell_type": "markdown",
      "source": [
        "Parking Garage"
      ],
      "metadata": {
        "id": "9I26BW6UQUsv"
      }
    },
    {
      "cell_type": "code",
      "source": [
        "for hour in range(1,9):\n",
        "  fee = 5 + 2.5*hour\n",
        "  if fee<10:\n",
        "    fee = 10.0\n",
        "  elif fee> 20:\n",
        "    fee = 20.0\n",
        "  print(f'{hour} ${fee}')"
      ],
      "metadata": {
        "colab": {
          "base_uri": "https://localhost:8080/"
        },
        "id": "8--1Q2JkQUX3",
        "outputId": "84c8de2f-e5e8-41db-b7fc-d23ca1558cb5"
      },
      "execution_count": 1,
      "outputs": [
        {
          "output_type": "stream",
          "name": "stdout",
          "text": [
            "1 $10.0\n",
            "2 $10.0\n",
            "3 $12.5\n",
            "4 $15.0\n",
            "5 $17.5\n",
            "6 $20.0\n",
            "7 $20.0\n",
            "8 $20.0\n"
          ]
        }
      ]
    },
    {
      "cell_type": "markdown",
      "source": [
        "Movie theater"
      ],
      "metadata": {
        "id": "UQOd0MhNNZ8g"
      }
    },
    {
      "cell_type": "code",
      "source": [
        "print(f'Ad$ Profit')\n",
        "\n",
        "init_attendees = 20\n",
        "fixed_cost = 200\n",
        "\n",
        "for advertising in range(0, 201, 25):\n",
        "  ad = float(advertising)\n",
        "  attendees = float(2*round(advertising**0.5)+init_attendees)\n",
        "  profit = float(attendees * 10) - advertising - fixed_cost)\n",
        "  print(f'{ad} ${profit}')"
      ],
      "metadata": {
        "id": "Ob0jdWtCMpmU"
      },
      "execution_count": null,
      "outputs": []
    }
  ]
}