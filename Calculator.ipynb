{
  "nbformat": 4,
  "nbformat_minor": 0,
  "metadata": {
    "colab": {
      "provenance": [],
      "authorship_tag": "ABX9TyODjPy7Vg4bR8MUWdIFoqNa",
      "include_colab_link": true
    },
    "kernelspec": {
      "name": "python3",
      "display_name": "Python 3"
    },
    "language_info": {
      "name": "python"
    }
  },
  "cells": [
    {
      "cell_type": "markdown",
      "metadata": {
        "id": "view-in-github",
        "colab_type": "text"
      },
      "source": [
        "<a href=\"https://colab.research.google.com/github/melaniecafatti/BTE-320/blob/main/Calculator.ipynb\" target=\"_parent\"><img src=\"https://colab.research.google.com/assets/colab-badge.svg\" alt=\"Open In Colab\"/></a>"
      ]
    },
    {
      "cell_type": "markdown",
      "source": [
        "Design a calculator\n",
        "- the calculator once starts, cannot stop unless the user chooses to (hint: infinite loop)\n",
        "- implement all numerical operators that we discussed (+, -, *, **, /, //, %)\n",
        "- the user has to provide th enumbers and the desired operator from the keyboard; then, the calculator will display the result (use three separate cells to function input() for each one of the inputs)\n",
        "\n",
        "- Numbers: int or float, operator: str\n",
        "- the calculator stops if the user enters the word \"break\" instead of an operator; it skips an iteration if the user gives an operator that is not numerical (e.g., a boolean one)\n"
      ],
      "metadata": {
        "id": "2J5FPU_Umr85"
      }
    },
    {
      "cell_type": "code",
      "source": [
        "while True:\n",
        "\n",
        "  operator = input(\"What function do you want to use?\")\n",
        "  if operator == \"break\":\n",
        "    break\n",
        "\n",
        "  number1 = float(input(\"Enter first number\"))\n",
        "  number2 = float(input(\"Enter second number\"))\n",
        "\n",
        "  if operator == \"+\":\n",
        "    result = (number1 + number2)\n",
        "  elif operator == \"-\":\n",
        "    result = (number1 - number2)\n",
        "  elif operator == \"*\":\n",
        "    result = (number1 * number2)\n",
        "  elif operator == \"/\":\n",
        "    result = (number1 / number2)\n",
        "  elif operator == \"//\":\n",
        "    result = (number1 // number2)\n",
        "  elif operator == \"%\":\n",
        "    result = (number1 % number2)\n",
        "  print(result)\n",
        "\n",
        "print(\"Bye\")"
      ],
      "metadata": {
        "id": "b-ZuwsJ0rK2k"
      },
      "execution_count": null,
      "outputs": []
    },
    {
      "cell_type": "code",
      "source": [],
      "metadata": {
        "id": "63HHiCC_uSzi"
      },
      "execution_count": null,
      "outputs": []
    }
  ]
}