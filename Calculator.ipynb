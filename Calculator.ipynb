{
  "nbformat": 4,
  "nbformat_minor": 0,
  "metadata": {
    "colab": {
      "provenance": [],
      "authorship_tag": "ABX9TyMzYiEW+TXtWS0hStXuEdKu",
      "include_colab_link": true
    },
    "kernelspec": {
      "name": "python3",
      "display_name": "Python 3"
    },
    "language_info": {
      "name": "python"
    }
  },
  "cells": [
    {
      "cell_type": "markdown",
      "metadata": {
        "id": "view-in-github",
        "colab_type": "text"
      },
      "source": [
        "<a href=\"https://colab.research.google.com/github/melaniecafatti/BTE-320/blob/main/Calculator.ipynb\" target=\"_parent\"><img src=\"https://colab.research.google.com/assets/colab-badge.svg\" alt=\"Open In Colab\"/></a>"
      ]
    },
    {
      "cell_type": "markdown",
      "source": [
        "Design a calculator\n",
        "- the calculator once starts, cannot stop unless the user chooses to (hint: infinite loop)\n",
        "- implement all numerical operators that we discussed (+, -, *, **, /, //, %)\n",
        "- the user has to provide th enumbers and the desired operator from the keyboard; then, the calculator will display the result (use three separate cells to function input() for each one of the inputs)\n",
        "\n",
        "- Numbers: int or float, operator: str\n",
        "- the calculator stops if the user enters the word \"break\" instead of an operator; it skips an iteration if the user gives an operator that is not numerical (e.g., a boolean one)\n"
      ],
      "metadata": {
        "id": "2J5FPU_Umr85"
      }
    },
    {
      "cell_type": "code",
      "source": [
        "fin = 0\n",
        "\n",
        "while fin < 1:\n",
        "\n",
        "  operator = input(\"What function do you want to use?\")\n",
        "  if operator == \"break\":\n",
        "    break\n",
        "\n",
        "  number1 = int(input(\"Enter first number\"))\n",
        "  number2 = int(input(\"Enter second number\"))\n",
        "\n",
        "  if operator == \"+\":\n",
        "    result = (number1 + number2)\n",
        "  elif operator == \"-\":\n",
        "    result = (number1 - number2)\n",
        "  elif operator == \"*\":\n",
        "    result = (number1 * number2)\n",
        "  elif operator == \"/\":\n",
        "    result = (number1 / number2)\n",
        "  elif operator == \"//\":\n",
        "    result = (number1 // number2)\n",
        "  elif operator == \"%\":\n",
        "    result = (number1 % number2)\n",
        "  print(result)\n",
        "\n",
        "print(\"Bye\")"
      ],
      "metadata": {
        "colab": {
          "base_uri": "https://localhost:8080/",
          "height": 357
        },
        "id": "b-ZuwsJ0rK2k",
        "outputId": "f488c900-af54-4778-9d5a-2fb0dd17b75d"
      },
      "execution_count": 10,
      "outputs": [
        {
          "name": "stdout",
          "output_type": "stream",
          "text": [
            "What function do you want to use?/\n",
            "Enter first number2\n",
            "Enter second number3\n",
            "0.6666666666666666\n",
            "What function do you want to use?noi\n",
            "Enter first numbermo\n"
          ]
        },
        {
          "output_type": "error",
          "ename": "ValueError",
          "evalue": "invalid literal for int() with base 10: 'mo'",
          "traceback": [
            "\u001b[0;31m---------------------------------------------------------------------------\u001b[0m",
            "\u001b[0;31mValueError\u001b[0m                                Traceback (most recent call last)",
            "\u001b[0;32m<ipython-input-10-43a6aa1a059f>\u001b[0m in \u001b[0;36m<cell line: 3>\u001b[0;34m()\u001b[0m\n\u001b[1;32m      7\u001b[0m     \u001b[0;32mbreak\u001b[0m\u001b[0;34m\u001b[0m\u001b[0;34m\u001b[0m\u001b[0m\n\u001b[1;32m      8\u001b[0m \u001b[0;34m\u001b[0m\u001b[0m\n\u001b[0;32m----> 9\u001b[0;31m   \u001b[0mnumber1\u001b[0m \u001b[0;34m=\u001b[0m \u001b[0mint\u001b[0m\u001b[0;34m(\u001b[0m\u001b[0minput\u001b[0m\u001b[0;34m(\u001b[0m\u001b[0;34m\"Enter first number\"\u001b[0m\u001b[0;34m)\u001b[0m\u001b[0;34m)\u001b[0m\u001b[0;34m\u001b[0m\u001b[0;34m\u001b[0m\u001b[0m\n\u001b[0m\u001b[1;32m     10\u001b[0m   \u001b[0mnumber2\u001b[0m \u001b[0;34m=\u001b[0m \u001b[0mint\u001b[0m\u001b[0;34m(\u001b[0m\u001b[0minput\u001b[0m\u001b[0;34m(\u001b[0m\u001b[0;34m\"Enter second number\"\u001b[0m\u001b[0;34m)\u001b[0m\u001b[0;34m)\u001b[0m\u001b[0;34m\u001b[0m\u001b[0;34m\u001b[0m\u001b[0m\n\u001b[1;32m     11\u001b[0m \u001b[0;34m\u001b[0m\u001b[0m\n",
            "\u001b[0;31mValueError\u001b[0m: invalid literal for int() with base 10: 'mo'"
          ]
        }
      ]
    }
  ]
}