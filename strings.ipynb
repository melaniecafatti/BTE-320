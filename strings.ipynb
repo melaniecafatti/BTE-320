{
  "nbformat": 4,
  "nbformat_minor": 0,
  "metadata": {
    "colab": {
      "provenance": [],
      "authorship_tag": "ABX9TyM677Ng3WVxL647KIND7Ggq",
      "include_colab_link": true
    },
    "kernelspec": {
      "name": "python3",
      "display_name": "Python 3"
    },
    "language_info": {
      "name": "python"
    }
  },
  "cells": [
    {
      "cell_type": "markdown",
      "metadata": {
        "id": "view-in-github",
        "colab_type": "text"
      },
      "source": [
        "<a href=\"https://colab.research.google.com/github/melaniecafatti/BTE-320/blob/main/strings.ipynb\" target=\"_parent\"><img src=\"https://colab.research.google.com/assets/colab-badge.svg\" alt=\"Open In Colab\"/></a>"
      ]
    },
    {
      "cell_type": "code",
      "execution_count": null,
      "metadata": {
        "colab": {
          "base_uri": "https://localhost:8080/"
        },
        "id": "-Amt1QTj5GoS",
        "outputId": "8ebf4a8f-e592-4d02-c3ac-3b6986efdc59"
      },
      "outputs": [
        {
          "output_type": "execute_result",
          "data": {
            "text/plain": [
              "14"
            ]
          },
          "metadata": {},
          "execution_count": 1
        }
      ],
      "source": [
        "s = 'This is a test'\n",
        "len(s)\n"
      ]
    },
    {
      "cell_type": "code",
      "source": [
        "s[8]"
      ],
      "metadata": {
        "colab": {
          "base_uri": "https://localhost:8080/",
          "height": 35
        },
        "id": "wKcQx8jH66WY",
        "outputId": "f202d3db-bf0d-4b82-8719-58de6d213edf"
      },
      "execution_count": null,
      "outputs": [
        {
          "output_type": "execute_result",
          "data": {
            "text/plain": [
              "'a'"
            ],
            "application/vnd.google.colaboratory.intrinsic+json": {
              "type": "string"
            }
          },
          "metadata": {},
          "execution_count": 2
        }
      ]
    },
    {
      "cell_type": "code",
      "source": [
        "s +', and this is a test too'"
      ],
      "metadata": {
        "colab": {
          "base_uri": "https://localhost:8080/",
          "height": 35
        },
        "id": "wtBZT22m7FBm",
        "outputId": "deaebc37-6d50-40e7-a955-99cd71738430"
      },
      "execution_count": null,
      "outputs": [
        {
          "output_type": "execute_result",
          "data": {
            "text/plain": [
              "'This is a test, and this is a test too'"
            ],
            "application/vnd.google.colaboratory.intrinsic+json": {
              "type": "string"
            }
          },
          "metadata": {},
          "execution_count": 3
        }
      ]
    },
    {
      "cell_type": "code",
      "source": [
        "s2 = 'a'\n",
        "print(3*s2)"
      ],
      "metadata": {
        "colab": {
          "base_uri": "https://localhost:8080/"
        },
        "id": "hx5ud3NP7fet",
        "outputId": "72b1d6cc-cd32-491a-c516-c5e34cc17525"
      },
      "execution_count": null,
      "outputs": [
        {
          "output_type": "stream",
          "name": "stdout",
          "text": [
            "aaa\n"
          ]
        }
      ]
    },
    {
      "cell_type": "code",
      "source": [
        "print(s)"
      ],
      "metadata": {
        "colab": {
          "base_uri": "https://localhost:8080/"
        },
        "id": "ytMe-2En7mfg",
        "outputId": "834cb6d2-02f5-4d54-92b2-4117673162e9"
      },
      "execution_count": null,
      "outputs": [
        {
          "output_type": "stream",
          "name": "stdout",
          "text": [
            "This is a test\n"
          ]
        }
      ]
    },
    {
      "cell_type": "code",
      "source": [
        "new_s = s[5:7:1]\n",
        "print(new_s)"
      ],
      "metadata": {
        "colab": {
          "base_uri": "https://localhost:8080/"
        },
        "id": "m9ZQSDH8-QhP",
        "outputId": "eb6cb30e-1048-494f-95db-9c1759dde8ed"
      },
      "execution_count": null,
      "outputs": [
        {
          "output_type": "stream",
          "name": "stdout",
          "text": [
            "is\n"
          ]
        }
      ]
    },
    {
      "cell_type": "code",
      "source": [
        "slice_s = s[1:len(s):2]\n",
        "print(slice_s)"
      ],
      "metadata": {
        "colab": {
          "base_uri": "https://localhost:8080/"
        },
        "id": "sTnPDBDo-uTu",
        "outputId": "91769b4a-f9a3-45ae-ddff-b40648f66114"
      },
      "execution_count": null,
      "outputs": [
        {
          "output_type": "stream",
          "name": "stdout",
          "text": [
            "hsi  et\n"
          ]
        }
      ]
    },
    {
      "cell_type": "code",
      "source": [
        "ex = \"This is another test!\"\n",
        "\n",
        "#use index\n",
        "print(ex[len(ex)- 1], ex[20], ex[-1])"
      ],
      "metadata": {
        "colab": {
          "base_uri": "https://localhost:8080/"
        },
        "id": "00j9rTvF_f8W",
        "outputId": "b1b9d24a-fe9b-4a2a-f2e7-098bc607225d"
      },
      "execution_count": null,
      "outputs": [
        {
          "output_type": "stream",
          "name": "stdout",
          "text": [
            "! ! !\n"
          ]
        }
      ]
    },
    {
      "cell_type": "code",
      "source": [
        "print(ex[8:15])"
      ],
      "metadata": {
        "colab": {
          "base_uri": "https://localhost:8080/"
        },
        "id": "STyaHNP5ALGG",
        "outputId": "882fca56-9ac4-41af-f798-1fff9b067153"
      },
      "execution_count": null,
      "outputs": [
        {
          "output_type": "stream",
          "name": "stdout",
          "text": [
            "another\n"
          ]
        }
      ]
    },
    {
      "cell_type": "code",
      "source": [
        "print(ex[-2])"
      ],
      "metadata": {
        "colab": {
          "base_uri": "https://localhost:8080/"
        },
        "id": "LR7cWBT7BnqU",
        "outputId": "3d505ed1-1447-42af-e817-f4cd6e5a1bed"
      },
      "execution_count": null,
      "outputs": [
        {
          "output_type": "stream",
          "name": "stdout",
          "text": [
            "t\n"
          ]
        }
      ]
    },
    {
      "cell_type": "code",
      "source": [
        "ex[16:]"
      ],
      "metadata": {
        "id": "jZX3ZOgrDsAS",
        "outputId": "2be7ec86-7e37-4537-8fbc-089b3ca1c5e3",
        "colab": {
          "base_uri": "https://localhost:8080/",
          "height": 35
        }
      },
      "execution_count": null,
      "outputs": [
        {
          "output_type": "execute_result",
          "data": {
            "text/plain": [
              "'test!'"
            ],
            "application/vnd.google.colaboratory.intrinsic+json": {
              "type": "string"
            }
          },
          "metadata": {},
          "execution_count": 26
        }
      ]
    },
    {
      "cell_type": "code",
      "source": [
        "#Write a program that takes as input from the keyboard a string that correspons to\n",
        "#a date (e.g., 02/20/2024) in the format: MM/DD/YYY\n",
        "\n",
        "date = input(\"Enter the date: \")\n",
        "month = date[0:2]\n",
        "day = date[3:5]\n",
        "year = date[6:]\n",
        "print(month, day, year)"
      ],
      "metadata": {
        "colab": {
          "base_uri": "https://localhost:8080/"
        },
        "id": "zN2i1IUV0H3E",
        "outputId": "c7335f34-22b8-4103-842e-bf3d7eabd715"
      },
      "execution_count": 2,
      "outputs": [
        {
          "output_type": "stream",
          "name": "stdout",
          "text": [
            "Enter the date: 02/02/2002\n",
            "02 02 2002\n"
          ]
        }
      ]
    }
  ]
}