{
  "nbformat": 4,
  "nbformat_minor": 0,
  "metadata": {
    "colab": {
      "provenance": [],
      "authorship_tag": "ABX9TyN5F0ltN8Q7BOkWkHLW631T",
      "include_colab_link": true
    },
    "kernelspec": {
      "name": "python3",
      "display_name": "Python 3"
    },
    "language_info": {
      "name": "python"
    }
  },
  "cells": [
    {
      "cell_type": "markdown",
      "metadata": {
        "id": "view-in-github",
        "colab_type": "text"
      },
      "source": [
        "<a href=\"https://colab.research.google.com/github/melaniecafatti/BTE-320/blob/main/Append.ipynb\" target=\"_parent\"><img src=\"https://colab.research.google.com/assets/colab-badge.svg\" alt=\"Open In Colab\"/></a>"
      ]
    },
    {
      "cell_type": "code",
      "execution_count": 3,
      "metadata": {
        "colab": {
          "base_uri": "https://localhost:8080/"
        },
        "id": "bv6thzl1Ay5y",
        "outputId": "0e346d48-0f2f-4399-a642-c4660e1c1cf9"
      },
      "outputs": [
        {
          "output_type": "stream",
          "name": "stdout",
          "text": [
            "Enter a value: 5\n",
            "Enter a value: 5\n",
            "Enter a value: 5\n",
            "Enter a value: 0\n",
            "[5, 5, 5]\n"
          ]
        }
      ],
      "source": [
        "#create a program that asks the user for inputs from the keyboard. ask for integer input. keep asking for inputs so that they are appended until input is not the same type\n",
        "\n",
        "L = []\n",
        "\n",
        "while True:\n",
        "  number = int(input('Enter a value: '))\n",
        "\n",
        "  if number !=0:\n",
        "    L.append(number)\n",
        "  else:\n",
        "    break\n",
        "\n",
        "print(L)\n",
        "\n",
        "\n",
        "\n"
      ]
    }
  ]
}