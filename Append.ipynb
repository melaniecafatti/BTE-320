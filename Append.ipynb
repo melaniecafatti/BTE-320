{
  "nbformat": 4,
  "nbformat_minor": 0,
  "metadata": {
    "colab": {
      "provenance": [],
      "authorship_tag": "ABX9TyNV6t/MYq/ZjTWmTV5cbeol",
      "include_colab_link": true
    },
    "kernelspec": {
      "name": "python3",
      "display_name": "Python 3"
    },
    "language_info": {
      "name": "python"
    }
  },
  "cells": [
    {
      "cell_type": "markdown",
      "metadata": {
        "id": "view-in-github",
        "colab_type": "text"
      },
      "source": [
        "<a href=\"https://colab.research.google.com/github/melaniecafatti/BTE-320/blob/main/Append.ipynb\" target=\"_parent\"><img src=\"https://colab.research.google.com/assets/colab-badge.svg\" alt=\"Open In Colab\"/></a>"
      ]
    },
    {
      "cell_type": "code",
      "execution_count": null,
      "metadata": {
        "colab": {
          "base_uri": "https://localhost:8080/"
        },
        "id": "bv6thzl1Ay5y",
        "outputId": "0e346d48-0f2f-4399-a642-c4660e1c1cf9"
      },
      "outputs": [
        {
          "output_type": "stream",
          "name": "stdout",
          "text": [
            "Enter a value: 5\n",
            "Enter a value: 5\n",
            "Enter a value: 5\n",
            "Enter a value: 0\n",
            "[5, 5, 5]\n"
          ]
        }
      ],
      "source": [
        "#create a program that asks the user for inputs from the keyboard. ask for integer input. keep asking for inputs so that they are appended until input is not the same type\n",
        "\n",
        "L = []\n",
        "\n",
        "while True:\n",
        "  number = int(input('Enter a value: '))\n",
        "\n",
        "  if number !=0:\n",
        "    L.append(number)\n",
        "  else:\n",
        "    break\n",
        "\n",
        "print(L)\n",
        "\n",
        "\n",
        "\n"
      ]
    },
    {
      "cell_type": "code",
      "source": [
        "L = []\n",
        "number = int(input('Enter a value: '))\n",
        "\n",
        "while number != 0:\n",
        "\n",
        "  L.append(number)\n",
        "  number = int(input('Enter a value: '))\n",
        "L"
      ],
      "metadata": {
        "colab": {
          "base_uri": "https://localhost:8080/"
        },
        "id": "zEPGMIHeGFqF",
        "outputId": "6dfd2039-16b9-46fc-bd26-c52452703a4c"
      },
      "execution_count": 8,
      "outputs": [
        {
          "name": "stdout",
          "output_type": "stream",
          "text": [
            "Enter a value: 9\n",
            "Enter a value: 9\n",
            "Enter a value: 0\n"
          ]
        },
        {
          "output_type": "execute_result",
          "data": {
            "text/plain": [
              "[9, 9]"
            ]
          },
          "metadata": {},
          "execution_count": 8
        }
      ]
    },
    {
      "cell_type": "code",
      "source": [],
      "metadata": {
        "id": "5rn0fbrFGL9x"
      },
      "execution_count": null,
      "outputs": []
    }
  ]
}