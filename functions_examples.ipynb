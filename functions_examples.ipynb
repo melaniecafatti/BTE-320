{
  "nbformat": 4,
  "nbformat_minor": 0,
  "metadata": {
    "colab": {
      "provenance": [],
      "authorship_tag": "ABX9TyOd0joS49sXHAz67CZHZh2l",
      "include_colab_link": true
    },
    "kernelspec": {
      "name": "python3",
      "display_name": "Python 3"
    },
    "language_info": {
      "name": "python"
    }
  },
  "cells": [
    {
      "cell_type": "markdown",
      "metadata": {
        "id": "view-in-github",
        "colab_type": "text"
      },
      "source": [
        "<a href=\"https://colab.research.google.com/github/melaniecafatti/BTE-320/blob/main/functions_examples.ipynb\" target=\"_parent\"><img src=\"https://colab.research.google.com/assets/colab-badge.svg\" alt=\"Open In Colab\"/></a>"
      ]
    },
    {
      "cell_type": "code",
      "execution_count": null,
      "metadata": {
        "colab": {
          "base_uri": "https://localhost:8080/"
        },
        "id": "fNv09ePa2ab2",
        "outputId": "f4a3b297-892e-46e5-883e-06b7ad38a062"
      },
      "outputs": [
        {
          "output_type": "stream",
          "name": "stdout",
          "text": [
            "[1, 3, 5, 7, 9]\n"
          ]
        }
      ],
      "source": [
        "def fill():\n",
        "  l = []\n",
        "  for i in range(10):\n",
        "    l.append(i)\n",
        "    if i%2 == 0:\n",
        "      l.pop()\n",
        "  print(l)\n",
        "\n",
        "fill()"
      ]
    },
    {
      "cell_type": "code",
      "source": [
        "def example ():\n",
        "  print('This is an example')\n",
        "\n",
        "name = example()\n",
        "print(name)"
      ],
      "metadata": {
        "colab": {
          "base_uri": "https://localhost:8080/"
        },
        "id": "tyxLhU0ymcTb",
        "outputId": "644b6450-7038-4229-bf1f-52f63ffc8238"
      },
      "execution_count": null,
      "outputs": [
        {
          "output_type": "stream",
          "name": "stdout",
          "text": [
            "This is an example\n",
            "None\n"
          ]
        }
      ]
    },
    {
      "cell_type": "code",
      "source": [
        "def example ():\n",
        "  print('This is an example')\n",
        "  return\n",
        "\n",
        "name = example()\n",
        "print(name)\n",
        "\n"
      ],
      "metadata": {
        "id": "nzznYK5pnVha"
      },
      "execution_count": null,
      "outputs": []
    },
    {
      "cell_type": "code",
      "source": [
        "def greeting(n):\n",
        "  print(f'Hello {n}!')\n",
        "\n",
        "name = input('Enter a name: ')\n",
        "greeting(name)\n"
      ],
      "metadata": {
        "colab": {
          "base_uri": "https://localhost:8080/"
        },
        "id": "YViTVulw2o1i",
        "outputId": "fe9c5dee-ea70-4d43-dcc9-fcf85666f18a"
      },
      "execution_count": null,
      "outputs": [
        {
          "output_type": "stream",
          "name": "stdout",
          "text": [
            "Enter a name:mel\n",
            "Hello mel!\n"
          ]
        }
      ]
    },
    {
      "cell_type": "code",
      "source": [
        "def add_num(a, b):\n",
        "  return a + b\n",
        "\n",
        "c = add_num(5,6) #a=5 and b=6: passing values by positional manner (inputs proovided in functions respect the position of the input parameters in its defintion)\n",
        "print(c)"
      ],
      "metadata": {
        "colab": {
          "base_uri": "https://localhost:8080/"
        },
        "id": "Z2RF6ALL2xxC",
        "outputId": "fc581a7c-7cde-42f2-bcec-edfc2c551722"
      },
      "execution_count": null,
      "outputs": [
        {
          "output_type": "stream",
          "name": "stdout",
          "text": [
            "11\n"
          ]
        }
      ]
    },
    {
      "cell_type": "code",
      "source": [
        "def add_num(a, b):\n",
        "  return a + b\n",
        "\n",
        "c = add_num(a=5,b=6) #not necessary but helpful for functions with many inputs\n",
        "print(c)"
      ],
      "metadata": {
        "colab": {
          "base_uri": "https://localhost:8080/"
        },
        "id": "vcEyZ0qw4-1J",
        "outputId": "10c1e728-8b69-4058-f92a-778d57bb4a9a"
      },
      "execution_count": null,
      "outputs": [
        {
          "output_type": "stream",
          "name": "stdout",
          "text": [
            "11\n"
          ]
        }
      ]
    },
    {
      "cell_type": "code",
      "source": [
        "def add_num(a, b):\n",
        "  return a + b\n",
        "\n",
        "c = add_num(b=6, a=5) #passing by keyword doesnt have to be in order\n",
        "print(c)"
      ],
      "metadata": {
        "colab": {
          "base_uri": "https://localhost:8080/"
        },
        "id": "_7b1wK_y5V2X",
        "outputId": "c0249ed6-404c-4fbb-b31b-37bdadb95cd4"
      },
      "execution_count": null,
      "outputs": [
        {
          "output_type": "stream",
          "name": "stdout",
          "text": [
            "11\n"
          ]
        }
      ]
    },
    {
      "cell_type": "code",
      "source": [
        "def add_num(a, b):\n",
        "  return a + b\n",
        "\n",
        "c = add_num(5, b=6) #hybrid approach BUT positional arguments must always be before the keyword arguments (not the other way around)\n",
        "print(c)"
      ],
      "metadata": {
        "colab": {
          "base_uri": "https://localhost:8080/"
        },
        "id": "2FsmaBY65mdf",
        "outputId": "87ee9153-73f4-484a-c01d-61dddfc19f5a"
      },
      "execution_count": null,
      "outputs": [
        {
          "output_type": "stream",
          "name": "stdout",
          "text": [
            "11\n"
          ]
        }
      ]
    },
    {
      "cell_type": "code",
      "source": [
        "def add_num(a, b=6):#assign numbers by default\n",
        "  return a + b\n",
        "\n",
        "c = add_num(5) #only put input for the number that needs it (a), as b is defult\n",
        "print(c)"
      ],
      "metadata": {
        "colab": {
          "base_uri": "https://localhost:8080/"
        },
        "id": "73NtO13d6mw8",
        "outputId": "dc5dcb27-64d5-417a-9ec7-bfd47d8332ce"
      },
      "execution_count": null,
      "outputs": [
        {
          "output_type": "stream",
          "name": "stdout",
          "text": [
            "11\n"
          ]
        }
      ]
    },
    {
      "cell_type": "code",
      "source": [
        "def add_num(a, b=5):\n",
        "  return a + b\n",
        "\n",
        "c = add_num(5,b=6) #override default value parameter: give it a second input and it will asign 5 to a and 6 to b\n",
        "print(c)"
      ],
      "metadata": {
        "id": "wX_RWDCn62a5"
      },
      "execution_count": null,
      "outputs": []
    },
    {
      "cell_type": "code",
      "source": [
        "def add_num(a=5, b): #THIS GIVES AN ERROR because the positional always has to go before the keyword\n",
        "  return a + b\n",
        "\n",
        "c = add_num(5)\n",
        "print(c)"
      ],
      "metadata": {
        "colab": {
          "base_uri": "https://localhost:8080/",
          "height": 106
        },
        "id": "e1K1ZYuJ7ZcA",
        "outputId": "2e62076b-345a-4aee-a6e0-aeea36ec5176"
      },
      "execution_count": null,
      "outputs": [
        {
          "output_type": "error",
          "ename": "SyntaxError",
          "evalue": "non-default argument follows default argument (<ipython-input-15-80a82dfef7e0>, line 1)",
          "traceback": [
            "\u001b[0;36m  File \u001b[0;32m\"<ipython-input-15-80a82dfef7e0>\"\u001b[0;36m, line \u001b[0;32m1\u001b[0m\n\u001b[0;31m    def add_num(a=5, b): #THIS GIVES AN ERROR because the positional always has to go before the keyword\u001b[0m\n\u001b[0m                     ^\u001b[0m\n\u001b[0;31mSyntaxError\u001b[0m\u001b[0;31m:\u001b[0m non-default argument follows default argument\n"
          ]
        }
      ]
    },
    {
      "cell_type": "code",
      "source": [
        "def f(x): # name x used as formal parameter.   #global scope\n",
        "  y = 1 #defined on the local scope (not related to y =2 in the global scope)\n",
        "  x = x+y\n",
        "  print('x =', x)\n",
        "  return x\n",
        "\n",
        "x = 3\n",
        "y = 2 #defined on the global scope\n",
        "z = f(x) #value of x used as actual parameter\n",
        "print('z =', z)\n",
        "print('x =', x)\n",
        "print('y =', y)"
      ],
      "metadata": {
        "colab": {
          "base_uri": "https://localhost:8080/"
        },
        "id": "ny9J6XGnqTz3",
        "outputId": "80d5e452-b2aa-4607-f8f9-a44a11b70de4"
      },
      "execution_count": null,
      "outputs": [
        {
          "output_type": "stream",
          "name": "stdout",
          "text": [
            "x = 4\n",
            "z = 4\n",
            "x = 3\n",
            "y = 2\n"
          ]
        }
      ]
    },
    {
      "cell_type": "markdown",
      "source": [
        "global scope:\n",
        "\n",
        "f(x)\n",
        "\n",
        "x: 3\n",
        "\n",
        "y: 2\n",
        "\n",
        "local scope: f\n",
        "\n",
        "y: 1\n",
        "\n",
        "x:4"
      ],
      "metadata": {
        "id": "EZC43Up7qzTW"
      }
    },
    {
      "cell_type": "code",
      "source": [
        "def countdown (n):\n",
        "  for i in range(n, -1, -1):\n",
        "    print(i)\n",
        "\n",
        "countdown(5)"
      ],
      "metadata": {
        "colab": {
          "base_uri": "https://localhost:8080/"
        },
        "id": "Bf0DbrwIpIoE",
        "outputId": "7ceea8e5-5682-4620-9105-e0791411f58b"
      },
      "execution_count": null,
      "outputs": [
        {
          "output_type": "stream",
          "name": "stdout",
          "text": [
            "5\n",
            "4\n",
            "3\n",
            "2\n",
            "1\n",
            "0\n"
          ]
        }
      ]
    },
    {
      "cell_type": "code",
      "source": [
        "def countdown(n):\n",
        "  while n >= 0:\n",
        "    print(n)\n",
        "    n = n - 1\n",
        "\n",
        "countdown(5)"
      ],
      "metadata": {
        "colab": {
          "base_uri": "https://localhost:8080/"
        },
        "id": "M9FPLfRbpknE",
        "outputId": "366b4014-2bf4-43ff-c589-8e8c38d2a22e"
      },
      "execution_count": null,
      "outputs": [
        {
          "output_type": "stream",
          "name": "stdout",
          "text": [
            "5\n",
            "4\n",
            "3\n",
            "2\n",
            "1\n",
            "0\n"
          ]
        }
      ]
    },
    {
      "cell_type": "markdown",
      "source": [
        "Base case: ___?___ version of the problem\n",
        "indusctive case: split problem into smaller, simpler versions of itself"
      ],
      "metadata": {
        "id": "YRR6H_XNq7vX"
      }
    },
    {
      "cell_type": "code",
      "source": [
        "def recursive_countdown(n):\n",
        "  if :\n",
        "    ...\n",
        "  else:\n",
        "    ...."
      ],
      "metadata": {
        "id": "8HrLRDd2r86i"
      },
      "execution_count": null,
      "outputs": []
    },
    {
      "cell_type": "code",
      "source": [
        "def recursive_countdown(n):\n",
        "  if n==0: #base case\n",
        "    print(0)\n",
        "  else:\n",
        "    print(n)\n",
        "    recursive_countdown(n-1)\n",
        "\n",
        "recursive_countdown(5)\n"
      ],
      "metadata": {
        "colab": {
          "base_uri": "https://localhost:8080/"
        },
        "id": "LJ5pfMPmsgYe",
        "outputId": "b06d2cf3-ad9a-41ae-e62c-9b3878fa082b"
      },
      "execution_count": null,
      "outputs": [
        {
          "output_type": "stream",
          "name": "stdout",
          "text": [
            "5\n",
            "4\n",
            "3\n",
            "2\n",
            "1\n",
            "0\n"
          ]
        }
      ]
    },
    {
      "cell_type": "markdown",
      "source": [
        "difference between two versions/implementations of solutions:\n",
        "\n",
        "we dont have iterations in the recursive_countdown. if we can avoid iterations, avoid them"
      ],
      "metadata": {
        "id": "VP6L5BqitfgI"
      }
    },
    {
      "cell_type": "code",
      "source": [
        "def summation(n):\n",
        "  s = 0\n",
        "  while n >= 0:\n",
        "    s = s + n\n",
        "    n = n - 1\n",
        "  return s\n",
        "\n",
        "summation(6)"
      ],
      "metadata": {
        "colab": {
          "base_uri": "https://localhost:8080/"
        },
        "id": "37fP_dyauwKG",
        "outputId": "2597c84e-393e-47c0-f440-acadc49475be"
      },
      "execution_count": null,
      "outputs": [
        {
          "output_type": "execute_result",
          "data": {
            "text/plain": [
              "21"
            ]
          },
          "metadata": {},
          "execution_count": 18
        }
      ]
    },
    {
      "cell_type": "code",
      "source": [
        "def recursive_summation(n):\n",
        "  if n == 0:\n",
        "    return 0\n",
        "  else:\n",
        "    return n + recursive_summation(n-1)\n",
        "\n",
        "\n",
        "recursive_summation(3)"
      ],
      "metadata": {
        "colab": {
          "base_uri": "https://localhost:8080/"
        },
        "id": "_c_sjFKrym7r",
        "outputId": "553dbeb4-b97d-4d16-da73-e2d80a11b4f6"
      },
      "execution_count": null,
      "outputs": [
        {
          "output_type": "execute_result",
          "data": {
            "text/plain": [
              "6"
            ]
          },
          "metadata": {},
          "execution_count": 20
        }
      ]
    },
    {
      "cell_type": "code",
      "source": [
        "def factR(n):\n",
        "  if n == 1:\n",
        "    return 1\n",
        "  else:\n",
        "    return n * factR(n-1)\n",
        "\n",
        "\n",
        "factR(5)\n"
      ],
      "metadata": {
        "colab": {
          "base_uri": "https://localhost:8080/"
        },
        "id": "poLjizFtztyN",
        "outputId": "19e7573e-eee6-448b-ea34-4ceec96e97f7"
      },
      "execution_count": null,
      "outputs": [
        {
          "output_type": "execute_result",
          "data": {
            "text/plain": [
              "120"
            ]
          },
          "metadata": {},
          "execution_count": 23
        }
      ]
    },
    {
      "cell_type": "code",
      "source": [
        "def factR(n):\n",
        "  prod = 1\n",
        "  while n >= 1:\n",
        "    prod = prod * n\n",
        "    n = n - 1"
      ],
      "metadata": {
        "id": "vJbUwFMr3s5l"
      },
      "execution_count": null,
      "outputs": []
    },
    {
      "cell_type": "code",
      "source": [
        "def fibR(n):\n",
        "  if n == 0 or n == 1:\n",
        "    return 1\n",
        "  else:\n",
        "    return fibR(n-1) + fibR(n-2)\n",
        "\n",
        "for i in range(8):\n",
        "  print(fibR(i), end=\" \")"
      ],
      "metadata": {
        "colab": {
          "base_uri": "https://localhost:8080/"
        },
        "id": "_KNO-Wmc3-zP",
        "outputId": "eaad0c3d-ec31-4bf4-f513-7b2dbcfd67b9"
      },
      "execution_count": null,
      "outputs": [
        {
          "output_type": "stream",
          "name": "stdout",
          "text": [
            "1 1 2 3 5 8 13 21 "
          ]
        }
      ]
    },
    {
      "cell_type": "code",
      "source": [
        "def reverse_string(s):\n",
        "  if s == \"\":\n",
        "    return s\n",
        "  else:\n",
        "    return reverse_string(s[1:]) + s[0]\n",
        "\n",
        "reverse_string(\"Hello\")"
      ],
      "metadata": {
        "colab": {
          "base_uri": "https://localhost:8080/",
          "height": 35
        },
        "id": "GXS5h5I6_ZPE",
        "outputId": "5bec22e9-eb4b-40ca-e15e-3b23d516ed3b"
      },
      "execution_count": 1,
      "outputs": [
        {
          "output_type": "execute_result",
          "data": {
            "text/plain": [
              "'olleH'"
            ],
            "application/vnd.google.colaboratory.intrinsic+json": {
              "type": "string"
            }
          },
          "metadata": {},
          "execution_count": 1
        }
      ]
    },
    {
      "cell_type": "code",
      "source": [
        "def mirrorString(s):\n",
        "  if len(s) == 1:\n",
        "    return s\n",
        "  else:\n",
        "    return s[-1]+mirrorString(s[:-1])\n",
        "\n",
        "mirrorString('anything')"
      ],
      "metadata": {
        "colab": {
          "base_uri": "https://localhost:8080/",
          "height": 35
        },
        "id": "K6IgTHTPGS23",
        "outputId": "a88b605c-968b-497c-ad31-5dbac3fce553"
      },
      "execution_count": 2,
      "outputs": [
        {
          "output_type": "execute_result",
          "data": {
            "text/plain": [
              "'gnihtyna'"
            ],
            "application/vnd.google.colaboratory.intrinsic+json": {
              "type": "string"
            }
          },
          "metadata": {},
          "execution_count": 2
        }
      ]
    },
    {
      "cell_type": "code",
      "source": [
        "def quicksort(array):\n",
        "  if len(array) < 2:\n",
        "    return array\n",
        "  else:\n",
        "    low, same, high = [], [], []\n",
        "\n",
        "    pivot = array[randit(0), len(array)-1]\n",
        "\n",
        "    for item in array:\n",
        "      if item < pivot:\n",
        "        low.append(item)\n",
        "      elif item == pivot:\n",
        ""
      ],
      "metadata": {
        "id": "rMvgJZNqJWb_"
      },
      "execution_count": null,
      "outputs": []
    }
  ]
}